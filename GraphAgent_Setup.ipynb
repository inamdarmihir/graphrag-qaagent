{
  "nbformat": 4,
  "nbformat_minor": 0,
  "metadata": {
    "colab": {
      "provenance": []
    },
    "kernelspec": {
      "name": "python3",
      "display_name": "Python 3"
    },
    "language_info": {
      "name": "python"
    }
  },
  "cells": [
    {
      "cell_type": "markdown",
      "source": [
        "# Setup and Run Instructions for Knowledge Graph Pipeline Project\n",
        "\n",
        "This notebook provides step-by-step instructions to clone the repository, set up the environment, and run the knowledge graph pipeline.\n",
        "\n",
        "---\n",
        "\n",
        "### Step 1: Clone the GitHub Repository\n",
        "\n",
        "First, open a terminal or command prompt and run the following command to clone the GitHub repository:\n",
        "\n",
        "`!git clone https://github.com/inamdarmihir/graphrag-qaagent.git`\n"
      ],
      "metadata": {
        "id": "CnompFEX0xI7"
      }
    },
    {
      "cell_type": "markdown",
      "source": [
        "# Step 2: Create a Virtual Environment (Optional)\n",
        "It's recommended to create a virtual environment to keep the project dependencies isolated.\n",
        "\n",
        "---\n",
        "\n",
        "### To create a virtual environment, run the following commands:\n",
        "\n",
        "`!python3 -m venv venv`\n",
        "\n",
        "Activate the virtual environment:\n",
        "\n",
        "On Linux/macOS:\n",
        "`!source venv/bin/activate`\n",
        "\n",
        "On Windows:\n",
        "`!venv\\Scripts\\activate`\n"
      ],
      "metadata": {
        "id": "WG5sBCed0x6l"
      }
    },
    {
      "cell_type": "markdown",
      "source": [
        "# Step 3: Install Dependencies\n",
        "---\n",
        "### Next, install the required dependencies for the project. The requirements.txt file contains all the necessary packages.\n",
        "\n",
        "`!pip install -r requirements.txt`"
      ],
      "metadata": {
        "id": "Qu6X3z940yup"
      }
    },
    {
      "cell_type": "markdown",
      "source": [
        "#Step 4: Run the Main Pipeline\n",
        "---\n",
        "###Now you can run the main pipeline by executing the main.py script:\n",
        "\n",
        "`!python src/main.py`\n",
        "\n",
        "This will:\n",
        "\n",
        "1. Retrieve a Wikipedia page (e.g., \"World War II\").\n",
        "2. Extract entities and build a knowledge graph.\n",
        "3. Generate responses based on user queries.\n",
        "4. Evaluate the responses using a BERT model for semantic similarity."
      ],
      "metadata": {
        "id": "bKY6iUH72-8s"
      }
    },
    {
      "cell_type": "markdown",
      "source": [
        "#Step 5: Example Output\n",
        "---\n",
        "###Once the pipeline completes execution, you will see results like the following:\n",
        "\n",
        "Query: Who was the primary leader of Nazi Germany during World War II?\n",
        "Response: Germany led by Adolf Hitler.\n",
        "`Score: 0.74`\n",
        "\n",
        "Query: Which major powers were involved in World War II?\n",
        "Response: Allied Powers opposed World War II. Allied Powers included United States\n",
        "`Score: 0.71`\n",
        "\n",
        "`Average Score: 0.70`"
      ],
      "metadata": {
        "id": "EeQ_2ixY3VD0"
      }
    },
    {
      "cell_type": "markdown",
      "source": [
        "#Step 6: Modify the Queries or Entities (Optional)\n",
        "---\n",
        "###Feel free to modify the queries or extend the knowledge graph by adding more relationships and entities inside the `graph_utils.py` file."
      ],
      "metadata": {
        "id": "h6aKe7fN3f0u"
      }
    },
    {
      "cell_type": "markdown",
      "source": [
        "#Step 7: Deactivate Virtual Environment (Optional)\n",
        "---\n",
        "###Once done, deactivate the virtual environment:\n",
        "\n",
        "`!deactivate`"
      ],
      "metadata": {
        "id": "npgheC4A3rkF"
      }
    }
  ]
}